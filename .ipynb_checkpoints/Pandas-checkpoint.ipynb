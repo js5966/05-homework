{
 "cells": [
  {
   "cell_type": "code",
   "execution_count": 1,
   "id": "a8249894",
   "metadata": {},
   "outputs": [],
   "source": [
    "import pandas as pd"
   ]
  },
  {
   "cell_type": "code",
   "execution_count": 2,
   "id": "53d43b4f",
   "metadata": {},
   "outputs": [],
   "source": [
    "df = pd.read_csv(\"countries.csv\", encoding = \"latin-1\")"
   ]
  },
  {
   "cell_type": "code",
   "execution_count": 3,
   "id": "5ea1b728",
   "metadata": {},
   "outputs": [
    {
     "data": {
      "text/html": [
       "<div>\n",
       "<style scoped>\n",
       "    .dataframe tbody tr th:only-of-type {\n",
       "        vertical-align: middle;\n",
       "    }\n",
       "\n",
       "    .dataframe tbody tr th {\n",
       "        vertical-align: top;\n",
       "    }\n",
       "\n",
       "    .dataframe thead th {\n",
       "        text-align: right;\n",
       "    }\n",
       "</style>\n",
       "<table border=\"1\" class=\"dataframe\">\n",
       "  <thead>\n",
       "    <tr style=\"text-align: right;\">\n",
       "      <th></th>\n",
       "      <th>country</th>\n",
       "      <th>continent</th>\n",
       "      <th>life_expectancy</th>\n",
       "      <th>population</th>\n",
       "      <th>gdp</th>\n",
       "    </tr>\n",
       "  </thead>\n",
       "  <tbody>\n",
       "    <tr>\n",
       "      <th>0</th>\n",
       "      <td>Afghanistan</td>\n",
       "      <td>Asia</td>\n",
       "      <td>54.863</td>\n",
       "      <td>22856302</td>\n",
       "      <td>15153728226</td>\n",
       "    </tr>\n",
       "    <tr>\n",
       "      <th>1</th>\n",
       "      <td>Albania</td>\n",
       "      <td>Europe</td>\n",
       "      <td>74.200</td>\n",
       "      <td>3071856</td>\n",
       "      <td>12886435920</td>\n",
       "    </tr>\n",
       "    <tr>\n",
       "      <th>2</th>\n",
       "      <td>Algeria</td>\n",
       "      <td>Africa</td>\n",
       "      <td>68.963</td>\n",
       "      <td>30533827</td>\n",
       "      <td>155661450046</td>\n",
       "    </tr>\n",
       "    <tr>\n",
       "      <th>3</th>\n",
       "      <td>Angola</td>\n",
       "      <td>Africa</td>\n",
       "      <td>45.234</td>\n",
       "      <td>13926373</td>\n",
       "      <td>34063908358</td>\n",
       "    </tr>\n",
       "    <tr>\n",
       "      <th>4</th>\n",
       "      <td>Antigua and Barbuda</td>\n",
       "      <td>N. America</td>\n",
       "      <td>73.544</td>\n",
       "      <td>77656</td>\n",
       "      <td>989182128</td>\n",
       "    </tr>\n",
       "    <tr>\n",
       "      <th>...</th>\n",
       "      <td>...</td>\n",
       "      <td>...</td>\n",
       "      <td>...</td>\n",
       "      <td>...</td>\n",
       "      <td>...</td>\n",
       "    </tr>\n",
       "    <tr>\n",
       "      <th>183</th>\n",
       "      <td>Vietnam</td>\n",
       "      <td>Asia</td>\n",
       "      <td>73.777</td>\n",
       "      <td>78758010</td>\n",
       "      <td>124201381770</td>\n",
       "    </tr>\n",
       "    <tr>\n",
       "      <th>184</th>\n",
       "      <td>West Bank and Gaza</td>\n",
       "      <td>Asia</td>\n",
       "      <td>70.929</td>\n",
       "      <td>3198560</td>\n",
       "      <td>24264276160</td>\n",
       "    </tr>\n",
       "    <tr>\n",
       "      <th>185</th>\n",
       "      <td>Yemen, Rep.</td>\n",
       "      <td>Asia</td>\n",
       "      <td>60.404</td>\n",
       "      <td>17723186</td>\n",
       "      <td>39292303362</td>\n",
       "    </tr>\n",
       "    <tr>\n",
       "      <th>186</th>\n",
       "      <td>Zambia</td>\n",
       "      <td>Africa</td>\n",
       "      <td>41.802</td>\n",
       "      <td>10201562</td>\n",
       "      <td>10558616670</td>\n",
       "    </tr>\n",
       "    <tr>\n",
       "      <th>187</th>\n",
       "      <td>Zimbabwe</td>\n",
       "      <td>Africa</td>\n",
       "      <td>43.976</td>\n",
       "      <td>12509477</td>\n",
       "      <td>9319560365</td>\n",
       "    </tr>\n",
       "  </tbody>\n",
       "</table>\n",
       "<p>188 rows × 5 columns</p>\n",
       "</div>"
      ],
      "text/plain": [
       "                 country   continent  life_expectancy  population  \\\n",
       "0            Afghanistan        Asia           54.863    22856302   \n",
       "1                Albania      Europe           74.200     3071856   \n",
       "2                Algeria      Africa           68.963    30533827   \n",
       "3                 Angola      Africa           45.234    13926373   \n",
       "4    Antigua and Barbuda  N. America           73.544       77656   \n",
       "..                   ...         ...              ...         ...   \n",
       "183              Vietnam        Asia           73.777    78758010   \n",
       "184   West Bank and Gaza        Asia           70.929     3198560   \n",
       "185          Yemen, Rep.        Asia           60.404    17723186   \n",
       "186               Zambia      Africa           41.802    10201562   \n",
       "187             Zimbabwe      Africa           43.976    12509477   \n",
       "\n",
       "              gdp  \n",
       "0     15153728226  \n",
       "1     12886435920  \n",
       "2    155661450046  \n",
       "3     34063908358  \n",
       "4       989182128  \n",
       "..            ...  \n",
       "183  124201381770  \n",
       "184   24264276160  \n",
       "185   39292303362  \n",
       "186   10558616670  \n",
       "187    9319560365  \n",
       "\n",
       "[188 rows x 5 columns]"
      ]
     },
     "execution_count": 3,
     "metadata": {},
     "output_type": "execute_result"
    }
   ],
   "source": [
    "df"
   ]
  },
  {
   "cell_type": "code",
   "execution_count": 4,
   "id": "b2c29224",
   "metadata": {},
   "outputs": [
    {
     "data": {
      "text/plain": [
       "(188, 5)"
      ]
     },
     "execution_count": 4,
     "metadata": {},
     "output_type": "execute_result"
    }
   ],
   "source": [
    "df.shape"
   ]
  },
  {
   "cell_type": "code",
   "execution_count": 5,
   "id": "e8c1acd1",
   "metadata": {},
   "outputs": [
    {
     "data": {
      "text/html": [
       "<div>\n",
       "<style scoped>\n",
       "    .dataframe tbody tr th:only-of-type {\n",
       "        vertical-align: middle;\n",
       "    }\n",
       "\n",
       "    .dataframe tbody tr th {\n",
       "        vertical-align: top;\n",
       "    }\n",
       "\n",
       "    .dataframe thead th {\n",
       "        text-align: right;\n",
       "    }\n",
       "</style>\n",
       "<table border=\"1\" class=\"dataframe\">\n",
       "  <thead>\n",
       "    <tr style=\"text-align: right;\">\n",
       "      <th></th>\n",
       "      <th>country</th>\n",
       "      <th>continent</th>\n",
       "      <th>life_expectancy</th>\n",
       "      <th>population</th>\n",
       "      <th>gdp</th>\n",
       "    </tr>\n",
       "  </thead>\n",
       "  <tbody>\n",
       "    <tr>\n",
       "      <th>0</th>\n",
       "      <td>Afghanistan</td>\n",
       "      <td>Asia</td>\n",
       "      <td>54.863</td>\n",
       "      <td>22856302</td>\n",
       "      <td>15153728226</td>\n",
       "    </tr>\n",
       "    <tr>\n",
       "      <th>1</th>\n",
       "      <td>Albania</td>\n",
       "      <td>Europe</td>\n",
       "      <td>74.200</td>\n",
       "      <td>3071856</td>\n",
       "      <td>12886435920</td>\n",
       "    </tr>\n",
       "    <tr>\n",
       "      <th>2</th>\n",
       "      <td>Algeria</td>\n",
       "      <td>Africa</td>\n",
       "      <td>68.963</td>\n",
       "      <td>30533827</td>\n",
       "      <td>155661450046</td>\n",
       "    </tr>\n",
       "    <tr>\n",
       "      <th>3</th>\n",
       "      <td>Angola</td>\n",
       "      <td>Africa</td>\n",
       "      <td>45.234</td>\n",
       "      <td>13926373</td>\n",
       "      <td>34063908358</td>\n",
       "    </tr>\n",
       "    <tr>\n",
       "      <th>4</th>\n",
       "      <td>Antigua and Barbuda</td>\n",
       "      <td>N. America</td>\n",
       "      <td>73.544</td>\n",
       "      <td>77656</td>\n",
       "      <td>989182128</td>\n",
       "    </tr>\n",
       "  </tbody>\n",
       "</table>\n",
       "</div>"
      ],
      "text/plain": [
       "               country   continent  life_expectancy  population           gdp\n",
       "0          Afghanistan        Asia           54.863    22856302   15153728226\n",
       "1              Albania      Europe           74.200     3071856   12886435920\n",
       "2              Algeria      Africa           68.963    30533827  155661450046\n",
       "3               Angola      Africa           45.234    13926373   34063908358\n",
       "4  Antigua and Barbuda  N. America           73.544       77656     989182128"
      ]
     },
     "execution_count": 5,
     "metadata": {},
     "output_type": "execute_result"
    }
   ],
   "source": [
    "df.head()"
   ]
  },
  {
   "cell_type": "code",
   "execution_count": 6,
   "id": "45f3ff23",
   "metadata": {},
   "outputs": [
    {
     "data": {
      "text/html": [
       "<div>\n",
       "<style scoped>\n",
       "    .dataframe tbody tr th:only-of-type {\n",
       "        vertical-align: middle;\n",
       "    }\n",
       "\n",
       "    .dataframe tbody tr th {\n",
       "        vertical-align: top;\n",
       "    }\n",
       "\n",
       "    .dataframe thead th {\n",
       "        text-align: right;\n",
       "    }\n",
       "</style>\n",
       "<table border=\"1\" class=\"dataframe\">\n",
       "  <thead>\n",
       "    <tr style=\"text-align: right;\">\n",
       "      <th></th>\n",
       "      <th>country</th>\n",
       "      <th>continent</th>\n",
       "      <th>life_expectancy</th>\n",
       "      <th>population</th>\n",
       "      <th>gdp</th>\n",
       "    </tr>\n",
       "  </thead>\n",
       "  <tbody>\n",
       "    <tr>\n",
       "      <th>183</th>\n",
       "      <td>Vietnam</td>\n",
       "      <td>Asia</td>\n",
       "      <td>73.777</td>\n",
       "      <td>78758010</td>\n",
       "      <td>124201381770</td>\n",
       "    </tr>\n",
       "    <tr>\n",
       "      <th>184</th>\n",
       "      <td>West Bank and Gaza</td>\n",
       "      <td>Asia</td>\n",
       "      <td>70.929</td>\n",
       "      <td>3198560</td>\n",
       "      <td>24264276160</td>\n",
       "    </tr>\n",
       "    <tr>\n",
       "      <th>185</th>\n",
       "      <td>Yemen, Rep.</td>\n",
       "      <td>Asia</td>\n",
       "      <td>60.404</td>\n",
       "      <td>17723186</td>\n",
       "      <td>39292303362</td>\n",
       "    </tr>\n",
       "    <tr>\n",
       "      <th>186</th>\n",
       "      <td>Zambia</td>\n",
       "      <td>Africa</td>\n",
       "      <td>41.802</td>\n",
       "      <td>10201562</td>\n",
       "      <td>10558616670</td>\n",
       "    </tr>\n",
       "    <tr>\n",
       "      <th>187</th>\n",
       "      <td>Zimbabwe</td>\n",
       "      <td>Africa</td>\n",
       "      <td>43.976</td>\n",
       "      <td>12509477</td>\n",
       "      <td>9319560365</td>\n",
       "    </tr>\n",
       "  </tbody>\n",
       "</table>\n",
       "</div>"
      ],
      "text/plain": [
       "                country continent  life_expectancy  population           gdp\n",
       "183             Vietnam      Asia           73.777    78758010  124201381770\n",
       "184  West Bank and Gaza      Asia           70.929     3198560   24264276160\n",
       "185         Yemen, Rep.      Asia           60.404    17723186   39292303362\n",
       "186              Zambia    Africa           41.802    10201562   10558616670\n",
       "187            Zimbabwe    Africa           43.976    12509477    9319560365"
      ]
     },
     "execution_count": 6,
     "metadata": {},
     "output_type": "execute_result"
    }
   ],
   "source": [
    "df.tail()"
   ]
  },
  {
   "cell_type": "code",
   "execution_count": 12,
   "id": "a09f851a",
   "metadata": {},
   "outputs": [
    {
     "data": {
      "text/html": [
       "<div>\n",
       "<style scoped>\n",
       "    .dataframe tbody tr th:only-of-type {\n",
       "        vertical-align: middle;\n",
       "    }\n",
       "\n",
       "    .dataframe tbody tr th {\n",
       "        vertical-align: top;\n",
       "    }\n",
       "\n",
       "    .dataframe thead th {\n",
       "        text-align: right;\n",
       "    }\n",
       "</style>\n",
       "<table border=\"1\" class=\"dataframe\">\n",
       "  <thead>\n",
       "    <tr style=\"text-align: right;\">\n",
       "      <th></th>\n",
       "      <th>country</th>\n",
       "      <th>continent</th>\n",
       "      <th>life_expectancy</th>\n",
       "      <th>population</th>\n",
       "      <th>gdp</th>\n",
       "    </tr>\n",
       "  </thead>\n",
       "  <tbody>\n",
       "    <tr>\n",
       "      <th>34</th>\n",
       "      <td>China</td>\n",
       "      <td>Asia</td>\n",
       "      <td>72.124</td>\n",
       "      <td>1269116737</td>\n",
       "      <td>4323880722959</td>\n",
       "    </tr>\n",
       "    <tr>\n",
       "      <th>75</th>\n",
       "      <td>India</td>\n",
       "      <td>Asia</td>\n",
       "      <td>62.129</td>\n",
       "      <td>1053898107</td>\n",
       "      <td>1736824080336</td>\n",
       "    </tr>\n",
       "    <tr>\n",
       "      <th>178</th>\n",
       "      <td>United States</td>\n",
       "      <td>N. America</td>\n",
       "      <td>76.800</td>\n",
       "      <td>282496310</td>\n",
       "      <td>11231488292980</td>\n",
       "    </tr>\n",
       "    <tr>\n",
       "      <th>76</th>\n",
       "      <td>Indonesia</td>\n",
       "      <td>Asia</td>\n",
       "      <td>67.289</td>\n",
       "      <td>213395411</td>\n",
       "      <td>579155145454</td>\n",
       "    </tr>\n",
       "    <tr>\n",
       "      <th>22</th>\n",
       "      <td>Brazil</td>\n",
       "      <td>S. America</td>\n",
       "      <td>70.261</td>\n",
       "      <td>174425387</td>\n",
       "      <td>1405170917672</td>\n",
       "    </tr>\n",
       "  </tbody>\n",
       "</table>\n",
       "</div>"
      ],
      "text/plain": [
       "           country   continent  life_expectancy  population             gdp\n",
       "34           China        Asia           72.124  1269116737   4323880722959\n",
       "75           India        Asia           62.129  1053898107   1736824080336\n",
       "178  United States  N. America           76.800   282496310  11231488292980\n",
       "76       Indonesia        Asia           67.289   213395411    579155145454\n",
       "22          Brazil  S. America           70.261   174425387   1405170917672"
      ]
     },
     "execution_count": 12,
     "metadata": {},
     "output_type": "execute_result"
    }
   ],
   "source": [
    "df.sort_values(by='population', ascending=False).head()"
   ]
  },
  {
   "cell_type": "code",
   "execution_count": 13,
   "id": "dddfdb5d",
   "metadata": {},
   "outputs": [
    {
     "data": {
      "text/plain": [
       "0      22856302\n",
       "1       3071856\n",
       "2      30533827\n",
       "3      13926373\n",
       "4         77656\n",
       "         ...   \n",
       "183    78758010\n",
       "184     3198560\n",
       "185    17723186\n",
       "186    10201562\n",
       "187    12509477\n",
       "Name: population, Length: 188, dtype: int64"
      ]
     },
     "execution_count": 13,
     "metadata": {},
     "output_type": "execute_result"
    }
   ],
   "source": [
    "df.population"
   ]
  },
  {
   "cell_type": "code",
   "execution_count": 14,
   "id": "072ddb26",
   "metadata": {},
   "outputs": [
    {
     "data": {
      "text/plain": [
       "6115042358"
      ]
     },
     "execution_count": 14,
     "metadata": {},
     "output_type": "execute_result"
    }
   ],
   "source": [
    "df.population.sum()"
   ]
  },
  {
   "cell_type": "code",
   "execution_count": 16,
   "id": "854f4338",
   "metadata": {},
   "outputs": [
    {
     "data": {
      "text/plain": [
       "32526821.05319149"
      ]
     },
     "execution_count": 16,
     "metadata": {},
     "output_type": "execute_result"
    }
   ],
   "source": [
    "df.population.mean()"
   ]
  },
  {
   "cell_type": "code",
   "execution_count": 17,
   "id": "758e527d",
   "metadata": {},
   "outputs": [
    {
     "data": {
      "text/plain": [
       "count    1.880000e+02\n",
       "mean     3.252682e+07\n",
       "std      1.237952e+08\n",
       "min      5.619600e+04\n",
       "25%      2.003170e+06\n",
       "50%      6.888970e+06\n",
       "75%      2.218517e+07\n",
       "max      1.269117e+09\n",
       "Name: population, dtype: float64"
      ]
     },
     "execution_count": 17,
     "metadata": {},
     "output_type": "execute_result"
    }
   ],
   "source": [
    "df.population.describe()"
   ]
  },
  {
   "cell_type": "code",
   "execution_count": 20,
   "id": "1fa9f224",
   "metadata": {},
   "outputs": [
    {
     "data": {
      "text/plain": [
       "0        663.0\n",
       "1       4195.0\n",
       "2       5098.0\n",
       "3       2446.0\n",
       "4      12738.0\n",
       "        ...   \n",
       "183     1577.0\n",
       "184     7586.0\n",
       "185     2217.0\n",
       "186     1035.0\n",
       "187      745.0\n",
       "Length: 188, dtype: float64"
      ]
     },
     "execution_count": 20,
     "metadata": {},
     "output_type": "execute_result"
    }
   ],
   "source": [
    "# Per capita GDP\n",
    "df.gdp / df.population"
   ]
  },
  {
   "cell_type": "code",
   "execution_count": 21,
   "id": "9efb09ad",
   "metadata": {},
   "outputs": [],
   "source": [
    "df['per_capita_gdp'] = df.gdp / df.population"
   ]
  },
  {
   "cell_type": "code",
   "execution_count": 25,
   "id": "35389f0a",
   "metadata": {},
   "outputs": [
    {
     "data": {
      "text/html": [
       "<div>\n",
       "<style scoped>\n",
       "    .dataframe tbody tr th:only-of-type {\n",
       "        vertical-align: middle;\n",
       "    }\n",
       "\n",
       "    .dataframe tbody tr th {\n",
       "        vertical-align: top;\n",
       "    }\n",
       "\n",
       "    .dataframe thead th {\n",
       "        text-align: right;\n",
       "    }\n",
       "</style>\n",
       "<table border=\"1\" class=\"dataframe\">\n",
       "  <thead>\n",
       "    <tr style=\"text-align: right;\">\n",
       "      <th></th>\n",
       "      <th>country</th>\n",
       "      <th>continent</th>\n",
       "      <th>life_expectancy</th>\n",
       "      <th>population</th>\n",
       "      <th>gdp</th>\n",
       "      <th>per_capita_gdp</th>\n",
       "    </tr>\n",
       "  </thead>\n",
       "  <tbody>\n",
       "    <tr>\n",
       "      <th>37</th>\n",
       "      <td>Congo, Dem. Rep.</td>\n",
       "      <td>Africa</td>\n",
       "      <td>46.387</td>\n",
       "      <td>49626200</td>\n",
       "      <td>14490850400</td>\n",
       "      <td>292.0</td>\n",
       "    </tr>\n",
       "    <tr>\n",
       "      <th>26</th>\n",
       "      <td>Burundi</td>\n",
       "      <td>Africa</td>\n",
       "      <td>48.251</td>\n",
       "      <td>6374347</td>\n",
       "      <td>2823835721</td>\n",
       "      <td>443.0</td>\n",
       "    </tr>\n",
       "    <tr>\n",
       "      <th>54</th>\n",
       "      <td>Ethiopia</td>\n",
       "      <td>Africa</td>\n",
       "      <td>52.245</td>\n",
       "      <td>65577897</td>\n",
       "      <td>33575883264</td>\n",
       "      <td>512.0</td>\n",
       "    </tr>\n",
       "  </tbody>\n",
       "</table>\n",
       "</div>"
      ],
      "text/plain": [
       "             country continent  life_expectancy  population          gdp  \\\n",
       "37  Congo, Dem. Rep.    Africa           46.387    49626200  14490850400   \n",
       "26           Burundi    Africa           48.251     6374347   2823835721   \n",
       "54          Ethiopia    Africa           52.245    65577897  33575883264   \n",
       "\n",
       "    per_capita_gdp  \n",
       "37           292.0  \n",
       "26           443.0  \n",
       "54           512.0  "
      ]
     },
     "execution_count": 25,
     "metadata": {},
     "output_type": "execute_result"
    }
   ],
   "source": [
    "# 3 countries with lowest per capita GDPs\n",
    "df.sort_values(by='per_capita_gdp').head(3)"
   ]
  },
  {
   "cell_type": "code",
   "execution_count": null,
   "id": "11c2ad4b",
   "metadata": {},
   "outputs": [],
   "source": []
  },
  {
   "cell_type": "code",
   "execution_count": null,
   "id": "74380336",
   "metadata": {},
   "outputs": [],
   "source": []
  }
 ],
 "metadata": {
  "kernelspec": {
   "display_name": "Python 3 (ipykernel)",
   "language": "python",
   "name": "python3"
  },
  "language_info": {
   "codemirror_mode": {
    "name": "ipython",
    "version": 3
   },
   "file_extension": ".py",
   "mimetype": "text/x-python",
   "name": "python",
   "nbconvert_exporter": "python",
   "pygments_lexer": "ipython3",
   "version": "3.9.7"
  }
 },
 "nbformat": 4,
 "nbformat_minor": 5
}
